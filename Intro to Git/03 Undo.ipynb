{
 "cells": [
  {
   "cell_type": "markdown",
   "id": "3019e36a",
   "metadata": {},
   "source": [
    "# Undo\n",
    "Since Git saves all the changes you've made to your files, you can use it to undo those changes. This chapter shows you several ways to do that.\n",
    "\n",
    "## Table of Contents\n",
    "[I. How can I commit changes selectively?](#one)  \n",
    "[II. How do I re-stage files?](#two)  \n",
    "[III. How can I undo changes to unstaged files?](#three)  \n",
    "[IV. How can I undo changes to staged files?](#four)  \n",
    "[V. How do I restore an old version of a file?](#five)  \n",
    "[VI. How can I undo all the changes I have made?](#six)  \n",
    "\n",
    "\n",
    "## How can I commit changes selectively? <a name=\"one\"></a>\n",
    "- You don't have to pull all changes you've made recently into the staging area at once\n",
    "- The syntax for staging a single file is `git add path/to/file`\n",
    "- You can unstage the additions with `git reset HEAD` and try again if you made a mistake\n",
    "\n",
    "## How do I re-stage files?<a name=\"two\"></a>\n",
    "- People often save their work every few minutes when they're using a desktop text editor\n",
    "- Similary, it's common to use `git add` periodically to save recent changes to a file to the staging are\n",
    "\n",
    "## How can I undo changes to unstaged files?<a name=\"three\"></a>\n",
    "Suppose you've made changes to a file, then decide you want to **undo** them. The command,\n",
    "\n",
    "        $ git checkout -- filename\n",
    "        \n",
    "will discard the changes that have not yet been staged.\n",
    "\n",
    "## How can I undo changes to staged files? <a name=\"four\"></a>\n",
    "You can undo changes to a file that you staged changes to with,\n",
    "\n",
    "        $ git reset HEAD path/to/file  \n",
    "    $ git checkout -- path/to/file\n",
    "        \n",
    "## How do I restore an old version of a file? <a name=\"five\"></a>\n",
    "- `git checkout` can also be used to go back even further into a file's history and restore versions of that file from a commit\n",
    "    - In a way, you can think of committing as saving your work, and **checking out** as loading that saved version\n",
    "- The syntax for restoring an old version takes two arguments:\n",
    "    1. the hash that identifies the version you want to restore\n",
    "    2. the name of the file\n",
    "\n",
    "\n",
    "        $ git checkout hash path/to/file\n",
    "    \n",
    "    \n",
    "- Restoring a file doesn't erase any of the repo's history\n",
    "- Instead, the act of restoring the file is saved as another commit, because you might later want to undo your undoing\n",
    "\n",
    "## How can I undo all the changes I have made?<a name=\"six\"></a>\n",
    "- One way to do this is to give `git reset` a directory\n",
    "    - E.g. `git reset HEAD data` will unstage any files in the `data` directory\n",
    "- If you don't provide any files or directory, it will unstage everything\n",
    "    - You can simply write `git reset` to unstage everything\n",
    "- Similarily, `git checkout -- data` will then restore the files in the `data` directory to the previous state\n",
    "    - You can refer to the current directory with `.`\n",
    "    - `git checkout -- .` will revert all files in current directory"
   ]
  }
 ],
 "metadata": {
  "kernelspec": {
   "display_name": "Python 3",
   "language": "python",
   "name": "python3"
  },
  "language_info": {
   "codemirror_mode": {
    "name": "ipython",
    "version": 3
   },
   "file_extension": ".py",
   "mimetype": "text/x-python",
   "name": "python",
   "nbconvert_exporter": "python",
   "pygments_lexer": "ipython3",
   "version": "3.8.8"
  }
 },
 "nbformat": 4,
 "nbformat_minor": 5
}
