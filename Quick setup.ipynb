{
 "cells": [
  {
   "cell_type": "markdown",
   "metadata": {},
   "source": [
    "# Quick setup\n",
    "\n",
    "## ...create a new repo on the command line\n",
    "\n",
    "        echo \"# about-git\" >> README.md\n",
    "        git init\n",
    "        git add README.md\n",
    "        git commit -m \"first commit\"\n",
    "        git branch -M main\n",
    "        git remote add origin git@github.com:themarisolhernandez/about-git.git\n",
    "        git push -u origin main\n",
    "\n",
    "## ...or push an existing repo from the command line\n",
    "\n",
    "        git remote add origin git@github.com:themarisolhernandez/about-git.git\n",
    "        git branch -M main\n",
    "        git push -u origin main"
   ]
  }
 ],
 "metadata": {
  "kernelspec": {
   "display_name": "Python 3.9.13 64-bit",
   "language": "python",
   "name": "python3"
  },
  "language_info": {
   "name": "python",
   "version": "3.9.13"
  },
  "orig_nbformat": 4,
  "vscode": {
   "interpreter": {
    "hash": "b0fa6594d8f4cbf19f97940f81e996739fb7646882a419484c72d19e05852a7e"
   }
  }
 },
 "nbformat": 4,
 "nbformat_minor": 2
}
